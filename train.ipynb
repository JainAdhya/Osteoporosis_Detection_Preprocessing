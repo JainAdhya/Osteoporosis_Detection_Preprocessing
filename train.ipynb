{
 "cells": [
  {
   "cell_type": "code",
   "execution_count": 153,
   "id": "5e30315d",
   "metadata": {},
   "outputs": [],
   "source": [
    "import tensorflow as tf\n",
    "import numpy as np\n",
    "import matplotlib.pyplot as plt\n",
    "import seaborn as sns\n",
    "from sklearn.metrics import confusion_matrix, classification_report\n",
    "import os\n",
    "import random\n",
    "from glob import glob\n",
    "from sklearn.model_selection import train_test_split\n",
    "from PIL import Image\n",
    "from pathlib import Path\n",
    "import cv2\n"
   ]
  },
  {
   "cell_type": "code",
   "execution_count": 154,
   "id": "70f2fa18",
   "metadata": {},
   "outputs": [
    {
     "name": "stdout",
     "output_type": "stream",
     "text": [
      "Total images: 372\n"
     ]
    }
   ],
   "source": [
    "# ===============================\n",
    "# Cell 2: Load paths and labels\n",
    "# ===============================\n",
    "data_dir = \"./dataset\"   \n",
    "classes = [\"normal\", \"osteoporosis\"]\n",
    "\n",
    "all_image_paths = []\n",
    "all_labels = []\n",
    "for idx, cls in enumerate(classes):\n",
    "    paths = glob(os.path.join(data_dir, cls, \"*\"))\n",
    "    all_image_paths.extend(paths)\n",
    "    all_labels.extend([idx]*len(paths))\n",
    "\n",
    "all_image_paths = np.array(all_image_paths)\n",
    "all_labels = np.array(all_labels)\n",
    "\n",
    "print(\"Total images:\", len(all_image_paths))"
   ]
  },
  {
   "cell_type": "code",
   "execution_count": 155,
   "id": "3876be90",
   "metadata": {},
   "outputs": [
    {
     "name": "stdout",
     "output_type": "stream",
     "text": [
      "Classes: ['normal', 'osteoporosis']\n",
      "Found 186 images in normal\n",
      "Found 186 images in osteoporosis\n",
      "Total images: 372\n"
     ]
    }
   ],
   "source": [
    "# Cell 3: Inspect dataset and collect filepaths & labels\n",
    "classes = sorted([d for d in os.listdir(data_dir) if os.path.isdir(os.path.join(data_dir, d))])\n",
    "class_to_index = {c:i for i,c in enumerate(classes)}\n",
    "print(\"Classes:\", classes)\n",
    "\n",
    "filepaths = []\n",
    "labels = []\n",
    "for cls in classes:\n",
    "    cls_dir = os.path.join(data_dir, cls)\n",
    "    files = sorted(glob(os.path.join(cls_dir, \"*\")))\n",
    "    print(f\"Found {len(files)} images in {cls}\")\n",
    "    for f in files:\n",
    "        filepaths.append(os.path.abspath(f))\n",
    "        labels.append(class_to_index[cls])\n",
    "\n",
    "filepaths = np.array(filepaths)\n",
    "labels = np.array(labels)\n",
    "print(\"Total images:\", len(filepaths))\n"
   ]
  },
  {
   "cell_type": "code",
   "execution_count": 156,
   "id": "66315a02",
   "metadata": {},
   "outputs": [
    {
     "name": "stdout",
     "output_type": "stream",
     "text": [
      "Train: 260, Val: 56, Test: 56\n"
     ]
    }
   ],
   "source": [
    "# ===============================\n",
    "# Cell 3: Split data\n",
    "# ===============================\n",
    "train_paths, temp_paths, train_labels, temp_labels = train_test_split(\n",
    "    all_image_paths, all_labels, stratify=all_labels, test_size=0.3, random_state=42\n",
    ")\n",
    "\n",
    "val_paths, test_paths, val_labels, test_labels = train_test_split(\n",
    "    temp_paths, temp_labels, stratify=temp_labels, test_size=0.5, random_state=42\n",
    ")\n",
    "\n",
    "print(f\"Train: {len(train_paths)}, Val: {len(val_paths)}, Test: {len(test_paths)}\")\n"
   ]
  },
  {
   "cell_type": "code",
   "execution_count": 157,
   "id": "bd4ec854",
   "metadata": {},
   "outputs": [],
   "source": [
    "IMG_SIZE = (224, 224)\n",
    "BATCH_SIZE = 16\n",
    "AUTOTUNE = tf.data.AUTOTUNE"
   ]
  },
  {
   "cell_type": "code",
   "execution_count": 159,
   "id": "a55e6388",
   "metadata": {},
   "outputs": [],
   "source": [
    "# =========================\n",
    "# HELPER FUNCTIONS\n",
    "# =========================\n",
    "\n",
    "def safe_resize(img):\n",
    "    \"\"\"Resize safely with OpenCV.\"\"\"\n",
    "    try:\n",
    "        img = cv2.resize(img, IMG_SIZE)\n",
    "    except:\n",
    "        img = np.zeros((IMG_SIZE[0], IMG_SIZE[1], 3), dtype=np.uint8)\n",
    "    return img\n",
    "\n",
    "def apply_clahe(img):\n",
    "    \"\"\"Apply CLAHE preprocessing.\"\"\"\n",
    "    try:\n",
    "        gray = cv2.cvtColor(img, cv2.COLOR_RGB2GRAY)\n",
    "        clahe = cv2.createCLAHE(clipLimit=2.0, tileGridSize=(8, 8))\n",
    "        clahe_img = clahe.apply(gray)\n",
    "        img = cv2.cvtColor(clahe_img, cv2.COLOR_GRAY2RGB)\n",
    "    except:\n",
    "        img = np.zeros((IMG_SIZE[0], IMG_SIZE[1], 3), dtype=np.uint8)\n",
    "    return img\n",
    "\n",
    "def apply_denoise_clahe(img):\n",
    "    \"\"\"Apply denoising + CLAHE preprocessing.\"\"\"\n",
    "    try:\n",
    "        img = cv2.fastNlMeansDenoisingColored(img, None, 10, 10, 7, 21)\n",
    "        gray = cv2.cvtColor(img, cv2.COLOR_RGB2GRAY)\n",
    "        clahe = cv2.createCLAHE(clipLimit=2.0, tileGridSize=(8, 8))\n",
    "        clahe_img = clahe.apply(gray)\n",
    "        img = cv2.cvtColor(clahe_img, cv2.COLOR_GRAY2RGB)\n",
    "    except:\n",
    "        img = np.zeros((IMG_SIZE[0], IMG_SIZE[1], 3), dtype=np.uint8)\n",
    "    return img\n",
    "\n",
    "# =========================\n",
    "# PIPELINE PREPROCESSORS\n",
    "# =========================\n",
    "\n",
    "# -----------------------------\n",
    "# Pipeline 3: Normalization + CLAHE\n",
    "# -----------------------------\n",
    "def preprocess_3_img(path, label):\n",
    "    def _process(path_str):\n",
    "        img = cv2.imread(path_str.decode(), cv2.IMREAD_COLOR)\n",
    "        if img is None:\n",
    "            img = np.zeros((224, 224, 3), dtype=np.uint8)  # fallback\n",
    "        else:\n",
    "            img = cv2.resize(img, (224, 224))\n",
    "            img = apply_clahe(img)\n",
    "        img = img.astype(\"float32\") / 255.0\n",
    "        return img\n",
    "    img = tf.numpy_function(_process, [path], tf.float32)\n",
    "    img = tf.ensure_shape(img, (224, 224, 3))   # ✅ important\n",
    "    return img, label\n",
    "\n",
    "\n",
    "\n",
    "# -----------------------------\n",
    "# Pipeline 4: Normalization + Denoising + CLAHE\n",
    "# -----------------------------\n",
    "def preprocess_4_img(path, label):\n",
    "    def _process(path_str):\n",
    "        img = cv2.imread(path_str.decode(), cv2.IMREAD_COLOR)\n",
    "        if img is None:\n",
    "            img = np.zeros((224, 224, 3), dtype=np.uint8)\n",
    "        else:\n",
    "            img = cv2.resize(img, (224, 224))\n",
    "            img = apply_denoise_clahe(img)\n",
    "        img = img.astype(\"float32\") / 255.0\n",
    "        return img\n",
    "    img = tf.numpy_function(_process, [path], tf.float32)\n",
    "    img = tf.ensure_shape(img, (224, 224, 3))\n",
    "    return img, label\n",
    "\n",
    "\n",
    "# -----------------------------\n",
    "# Pipeline 5: Normalization + CLAHE + Data Augmentation\n",
    "# -----------------------------\n",
    "def preprocess_5_img(path, label):\n",
    "    def _process(path_str):\n",
    "        img = cv2.imread(path_str.decode(), cv2.IMREAD_COLOR)\n",
    "        if img is None:\n",
    "            img = np.zeros((224, 224, 3), dtype=np.uint8)\n",
    "        else:\n",
    "            img = cv2.resize(img, (224, 224))\n",
    "            img = apply_clahe(img)\n",
    "        img = img.astype(\"float32\") / 255.0\n",
    "        return img\n",
    "    img = tf.numpy_function(_process, [path], tf.float32)\n",
    "    img = tf.ensure_shape(img, (224, 224, 3))\n",
    "\n",
    "    # ✅ Safe TF augmentations (inside graph)\n",
    "    img = tf.image.random_flip_left_right(img)\n",
    "    img = tf.image.random_brightness(img, max_delta=0.1)\n",
    "    img = tf.image.random_contrast(img, 0.9, 1.1)\n",
    "\n",
    "    return img, label\n"
   ]
  },
  {
   "cell_type": "code",
   "execution_count": 160,
   "id": "fc5925ca",
   "metadata": {},
   "outputs": [],
   "source": [
    "# --- Pipeline 3 ---\n",
    "train_ds_3 = (\n",
    "    tf.data.Dataset.from_tensor_slices((train_paths, train_labels))\n",
    "    .map(preprocess_3_img, num_parallel_calls=AUTOTUNE)\n",
    "    .shuffle(256).batch(BATCH_SIZE).prefetch(AUTOTUNE)\n",
    ")\n",
    "\n",
    "val_ds_3 = (\n",
    "    tf.data.Dataset.from_tensor_slices((val_paths, val_labels))\n",
    "    .map(preprocess_3_img, num_parallel_calls=AUTOTUNE)\n",
    "    .batch(BATCH_SIZE).prefetch(AUTOTUNE)\n",
    ")\n",
    "\n",
    "test_ds_3 = (\n",
    "    tf.data.Dataset.from_tensor_slices((test_paths, test_labels))\n",
    "    .map(preprocess_3_img, num_parallel_calls=AUTOTUNE)\n",
    "    .batch(BATCH_SIZE).prefetch(AUTOTUNE)\n",
    ")\n",
    "\n",
    "# --- Pipeline 4 ---\n",
    "train_ds_4 = (\n",
    "    tf.data.Dataset.from_tensor_slices((train_paths, train_labels))\n",
    "    .map(preprocess_4_img, num_parallel_calls=AUTOTUNE)\n",
    "    .shuffle(256).batch(BATCH_SIZE).prefetch(AUTOTUNE)\n",
    ")\n",
    "\n",
    "val_ds_4 = (\n",
    "    tf.data.Dataset.from_tensor_slices((val_paths, val_labels))\n",
    "    .map(preprocess_4_img, num_parallel_calls=AUTOTUNE)\n",
    "    .batch(BATCH_SIZE).prefetch(AUTOTUNE)\n",
    ")\n",
    "\n",
    "test_ds_4 = (\n",
    "    tf.data.Dataset.from_tensor_slices((test_paths, test_labels))\n",
    "    .map(preprocess_4_img, num_parallel_calls=AUTOTUNE)\n",
    "    .batch(BATCH_SIZE).prefetch(AUTOTUNE)\n",
    ")\n",
    "\n",
    "# --- Pipeline 5 ---\n",
    "train_ds_5 = (\n",
    "    tf.data.Dataset.from_tensor_slices((train_paths, train_labels))\n",
    "    .map(preprocess_5_img, num_parallel_calls=AUTOTUNE)\n",
    "    .shuffle(256).batch(BATCH_SIZE).prefetch(AUTOTUNE)\n",
    ")\n",
    "\n",
    "val_ds_5 = (\n",
    "    tf.data.Dataset.from_tensor_slices((val_paths, val_labels))\n",
    "    .map(preprocess_5_img, num_parallel_calls=AUTOTUNE)\n",
    "    .batch(BATCH_SIZE).prefetch(AUTOTUNE)\n",
    ")\n",
    "\n",
    "test_ds_5 = (\n",
    "    tf.data.Dataset.from_tensor_slices((test_paths, test_labels))\n",
    "    .map(preprocess_5_img, num_parallel_calls=AUTOTUNE)\n",
    "    .batch(BATCH_SIZE).prefetch(AUTOTUNE)\n",
    ")\n"
   ]
  },
  {
   "cell_type": "code",
   "execution_count": 161,
   "id": "368c107e",
   "metadata": {},
   "outputs": [
    {
     "data": {
      "text/html": [
       "<pre style=\"white-space:pre;overflow-x:auto;line-height:normal;font-family:Menlo,'DejaVu Sans Mono',consolas,'Courier New',monospace\"><span style=\"font-weight: bold\">Model: \"sequential_13\"</span>\n",
       "</pre>\n"
      ],
      "text/plain": [
       "\u001b[1mModel: \"sequential_13\"\u001b[0m\n"
      ]
     },
     "metadata": {},
     "output_type": "display_data"
    },
    {
     "data": {
      "text/html": [
       "<pre style=\"white-space:pre;overflow-x:auto;line-height:normal;font-family:Menlo,'DejaVu Sans Mono',consolas,'Courier New',monospace\">┏━━━━━━━━━━━━━━━━━━━━━━━━━━━━━━━━━┳━━━━━━━━━━━━━━━━━━━━━━━━┳━━━━━━━━━━━━━━━┓\n",
       "┃<span style=\"font-weight: bold\"> Layer (type)                    </span>┃<span style=\"font-weight: bold\"> Output Shape           </span>┃<span style=\"font-weight: bold\">       Param # </span>┃\n",
       "┡━━━━━━━━━━━━━━━━━━━━━━━━━━━━━━━━━╇━━━━━━━━━━━━━━━━━━━━━━━━╇━━━━━━━━━━━━━━━┩\n",
       "│ mobilenetv2_1.00_224            │ (<span style=\"color: #00d7ff; text-decoration-color: #00d7ff\">None</span>, <span style=\"color: #00af00; text-decoration-color: #00af00\">7</span>, <span style=\"color: #00af00; text-decoration-color: #00af00\">7</span>, <span style=\"color: #00af00; text-decoration-color: #00af00\">1280</span>)     │     <span style=\"color: #00af00; text-decoration-color: #00af00\">2,257,984</span> │\n",
       "│ (<span style=\"color: #0087ff; text-decoration-color: #0087ff\">Functional</span>)                    │                        │               │\n",
       "├─────────────────────────────────┼────────────────────────┼───────────────┤\n",
       "│ global_average_pooling2d_14     │ (<span style=\"color: #00d7ff; text-decoration-color: #00d7ff\">None</span>, <span style=\"color: #00af00; text-decoration-color: #00af00\">1280</span>)           │             <span style=\"color: #00af00; text-decoration-color: #00af00\">0</span> │\n",
       "│ (<span style=\"color: #0087ff; text-decoration-color: #0087ff\">GlobalAveragePooling2D</span>)        │                        │               │\n",
       "├─────────────────────────────────┼────────────────────────┼───────────────┤\n",
       "│ dropout_14 (<span style=\"color: #0087ff; text-decoration-color: #0087ff\">Dropout</span>)            │ (<span style=\"color: #00d7ff; text-decoration-color: #00d7ff\">None</span>, <span style=\"color: #00af00; text-decoration-color: #00af00\">1280</span>)           │             <span style=\"color: #00af00; text-decoration-color: #00af00\">0</span> │\n",
       "├─────────────────────────────────┼────────────────────────┼───────────────┤\n",
       "│ dense_16 (<span style=\"color: #0087ff; text-decoration-color: #0087ff\">Dense</span>)                │ (<span style=\"color: #00d7ff; text-decoration-color: #00d7ff\">None</span>, <span style=\"color: #00af00; text-decoration-color: #00af00\">1</span>)              │         <span style=\"color: #00af00; text-decoration-color: #00af00\">1,281</span> │\n",
       "└─────────────────────────────────┴────────────────────────┴───────────────┘\n",
       "</pre>\n"
      ],
      "text/plain": [
       "┏━━━━━━━━━━━━━━━━━━━━━━━━━━━━━━━━━┳━━━━━━━━━━━━━━━━━━━━━━━━┳━━━━━━━━━━━━━━━┓\n",
       "┃\u001b[1m \u001b[0m\u001b[1mLayer (type)                   \u001b[0m\u001b[1m \u001b[0m┃\u001b[1m \u001b[0m\u001b[1mOutput Shape          \u001b[0m\u001b[1m \u001b[0m┃\u001b[1m \u001b[0m\u001b[1m      Param #\u001b[0m\u001b[1m \u001b[0m┃\n",
       "┡━━━━━━━━━━━━━━━━━━━━━━━━━━━━━━━━━╇━━━━━━━━━━━━━━━━━━━━━━━━╇━━━━━━━━━━━━━━━┩\n",
       "│ mobilenetv2_1.00_224            │ (\u001b[38;5;45mNone\u001b[0m, \u001b[38;5;34m7\u001b[0m, \u001b[38;5;34m7\u001b[0m, \u001b[38;5;34m1280\u001b[0m)     │     \u001b[38;5;34m2,257,984\u001b[0m │\n",
       "│ (\u001b[38;5;33mFunctional\u001b[0m)                    │                        │               │\n",
       "├─────────────────────────────────┼────────────────────────┼───────────────┤\n",
       "│ global_average_pooling2d_14     │ (\u001b[38;5;45mNone\u001b[0m, \u001b[38;5;34m1280\u001b[0m)           │             \u001b[38;5;34m0\u001b[0m │\n",
       "│ (\u001b[38;5;33mGlobalAveragePooling2D\u001b[0m)        │                        │               │\n",
       "├─────────────────────────────────┼────────────────────────┼───────────────┤\n",
       "│ dropout_14 (\u001b[38;5;33mDropout\u001b[0m)            │ (\u001b[38;5;45mNone\u001b[0m, \u001b[38;5;34m1280\u001b[0m)           │             \u001b[38;5;34m0\u001b[0m │\n",
       "├─────────────────────────────────┼────────────────────────┼───────────────┤\n",
       "│ dense_16 (\u001b[38;5;33mDense\u001b[0m)                │ (\u001b[38;5;45mNone\u001b[0m, \u001b[38;5;34m1\u001b[0m)              │         \u001b[38;5;34m1,281\u001b[0m │\n",
       "└─────────────────────────────────┴────────────────────────┴───────────────┘\n"
      ]
     },
     "metadata": {},
     "output_type": "display_data"
    },
    {
     "data": {
      "text/html": [
       "<pre style=\"white-space:pre;overflow-x:auto;line-height:normal;font-family:Menlo,'DejaVu Sans Mono',consolas,'Courier New',monospace\"><span style=\"font-weight: bold\"> Total params: </span><span style=\"color: #00af00; text-decoration-color: #00af00\">2,259,265</span> (8.62 MB)\n",
       "</pre>\n"
      ],
      "text/plain": [
       "\u001b[1m Total params: \u001b[0m\u001b[38;5;34m2,259,265\u001b[0m (8.62 MB)\n"
      ]
     },
     "metadata": {},
     "output_type": "display_data"
    },
    {
     "data": {
      "text/html": [
       "<pre style=\"white-space:pre;overflow-x:auto;line-height:normal;font-family:Menlo,'DejaVu Sans Mono',consolas,'Courier New',monospace\"><span style=\"font-weight: bold\"> Trainable params: </span><span style=\"color: #00af00; text-decoration-color: #00af00\">1,281</span> (5.00 KB)\n",
       "</pre>\n"
      ],
      "text/plain": [
       "\u001b[1m Trainable params: \u001b[0m\u001b[38;5;34m1,281\u001b[0m (5.00 KB)\n"
      ]
     },
     "metadata": {},
     "output_type": "display_data"
    },
    {
     "data": {
      "text/html": [
       "<pre style=\"white-space:pre;overflow-x:auto;line-height:normal;font-family:Menlo,'DejaVu Sans Mono',consolas,'Courier New',monospace\"><span style=\"font-weight: bold\"> Non-trainable params: </span><span style=\"color: #00af00; text-decoration-color: #00af00\">2,257,984</span> (8.61 MB)\n",
       "</pre>\n"
      ],
      "text/plain": [
       "\u001b[1m Non-trainable params: \u001b[0m\u001b[38;5;34m2,257,984\u001b[0m (8.61 MB)\n"
      ]
     },
     "metadata": {},
     "output_type": "display_data"
    }
   ],
   "source": [
    "# Model\n",
    "base_model_3 = tf.keras.applications.MobileNetV2(\n",
    "    weights=\"imagenet\", include_top=False, input_shape=(224,224,3)\n",
    ")\n",
    "base_model_3.trainable = False\n",
    "\n",
    "model_3 = tf.keras.Sequential([\n",
    "    base_model_3,\n",
    "    tf.keras.layers.GlobalAveragePooling2D(),\n",
    "    tf.keras.layers.Dropout(0.3),\n",
    "    tf.keras.layers.Dense(1, activation=\"sigmoid\")\n",
    "])\n",
    "\n",
    "model_3.compile(\n",
    "    optimizer=tf.keras.optimizers.Adam(1e-4),\n",
    "    loss=\"binary_crossentropy\",\n",
    "    metrics=[\"accuracy\"]\n",
    ")\n",
    "\n",
    "model_3.summary()"
   ]
  },
  {
   "cell_type": "code",
   "execution_count": 162,
   "id": "c6d97fcc",
   "metadata": {},
   "outputs": [
    {
     "name": "stdout",
     "output_type": "stream",
     "text": [
      "\n",
      "Training PIPELINE 1 (Raw Images)...\n",
      "\n",
      "Epoch 1/10\n",
      "\u001b[1m17/17\u001b[0m \u001b[32m━━━━━━━━━━━━━━━━━━━━\u001b[0m\u001b[37m\u001b[0m \u001b[1m21s\u001b[0m 707ms/step - accuracy: 0.5000 - loss: 0.7966 - val_accuracy: 0.5179 - val_loss: 0.7082\n",
      "Epoch 2/10\n",
      "\u001b[1m17/17\u001b[0m \u001b[32m━━━━━━━━━━━━━━━━━━━━\u001b[0m\u001b[37m\u001b[0m \u001b[1m11s\u001b[0m 530ms/step - accuracy: 0.4923 - loss: 0.7843 - val_accuracy: 0.5179 - val_loss: 0.6752\n",
      "Epoch 3/10\n",
      "\u001b[1m17/17\u001b[0m \u001b[32m━━━━━━━━━━━━━━━━━━━━\u001b[0m\u001b[37m\u001b[0m \u001b[1m11s\u001b[0m 508ms/step - accuracy: 0.4962 - loss: 0.7775 - val_accuracy: 0.5893 - val_loss: 0.6524\n",
      "Epoch 4/10\n",
      "\u001b[1m17/17\u001b[0m \u001b[32m━━━━━━━━━━━━━━━━━━━━\u001b[0m\u001b[37m\u001b[0m \u001b[1m11s\u001b[0m 507ms/step - accuracy: 0.6038 - loss: 0.7278 - val_accuracy: 0.6071 - val_loss: 0.6327\n",
      "Epoch 5/10\n",
      "\u001b[1m17/17\u001b[0m \u001b[32m━━━━━━━━━━━━━━━━━━━━\u001b[0m\u001b[37m\u001b[0m \u001b[1m12s\u001b[0m 613ms/step - accuracy: 0.5154 - loss: 0.7609 - val_accuracy: 0.6607 - val_loss: 0.6137\n",
      "Epoch 6/10\n",
      "\u001b[1m17/17\u001b[0m \u001b[32m━━━━━━━━━━━━━━━━━━━━\u001b[0m\u001b[37m\u001b[0m \u001b[1m14s\u001b[0m 613ms/step - accuracy: 0.5692 - loss: 0.7195 - val_accuracy: 0.6964 - val_loss: 0.5961\n",
      "Epoch 7/10\n",
      "\u001b[1m17/17\u001b[0m \u001b[32m━━━━━━━━━━━━━━━━━━━━\u001b[0m\u001b[37m\u001b[0m \u001b[1m11s\u001b[0m 511ms/step - accuracy: 0.5731 - loss: 0.7219 - val_accuracy: 0.7321 - val_loss: 0.5822\n",
      "Epoch 8/10\n",
      "\u001b[1m17/17\u001b[0m \u001b[32m━━━━━━━━━━━━━━━━━━━━\u001b[0m\u001b[37m\u001b[0m \u001b[1m13s\u001b[0m 550ms/step - accuracy: 0.6269 - loss: 0.6912 - val_accuracy: 0.7679 - val_loss: 0.5698\n",
      "Epoch 9/10\n",
      "\u001b[1m17/17\u001b[0m \u001b[32m━━━━━━━━━━━━━━━━━━━━\u001b[0m\u001b[37m\u001b[0m \u001b[1m15s\u001b[0m 677ms/step - accuracy: 0.6269 - loss: 0.6460 - val_accuracy: 0.7321 - val_loss: 0.5572\n",
      "Epoch 10/10\n",
      "\u001b[1m17/17\u001b[0m \u001b[32m━━━━━━━━━━━━━━━━━━━━\u001b[0m\u001b[37m\u001b[0m \u001b[1m12s\u001b[0m 565ms/step - accuracy: 0.6231 - loss: 0.6254 - val_accuracy: 0.7679 - val_loss: 0.5472\n"
     ]
    }
   ],
   "source": [
    "print(\"\\nTraining PIPELINE 1 (Raw Images)...\\n\")\n",
    "history_3 = model_3.fit(train_ds_3, validation_data=val_ds_3, epochs=10)"
   ]
  },
  {
   "cell_type": "code",
   "execution_count": 165,
   "id": "09568a6c",
   "metadata": {},
   "outputs": [
    {
     "data": {
      "text/html": [
       "<pre style=\"white-space:pre;overflow-x:auto;line-height:normal;font-family:Menlo,'DejaVu Sans Mono',consolas,'Courier New',monospace\"><span style=\"font-weight: bold\">Model: \"sequential_15\"</span>\n",
       "</pre>\n"
      ],
      "text/plain": [
       "\u001b[1mModel: \"sequential_15\"\u001b[0m\n"
      ]
     },
     "metadata": {},
     "output_type": "display_data"
    },
    {
     "data": {
      "text/html": [
       "<pre style=\"white-space:pre;overflow-x:auto;line-height:normal;font-family:Menlo,'DejaVu Sans Mono',consolas,'Courier New',monospace\">┏━━━━━━━━━━━━━━━━━━━━━━━━━━━━━━━━━┳━━━━━━━━━━━━━━━━━━━━━━━━┳━━━━━━━━━━━━━━━┓\n",
       "┃<span style=\"font-weight: bold\"> Layer (type)                    </span>┃<span style=\"font-weight: bold\"> Output Shape           </span>┃<span style=\"font-weight: bold\">       Param # </span>┃\n",
       "┡━━━━━━━━━━━━━━━━━━━━━━━━━━━━━━━━━╇━━━━━━━━━━━━━━━━━━━━━━━━╇━━━━━━━━━━━━━━━┩\n",
       "│ mobilenetv2_1.00_224            │ (<span style=\"color: #00d7ff; text-decoration-color: #00d7ff\">None</span>, <span style=\"color: #00af00; text-decoration-color: #00af00\">7</span>, <span style=\"color: #00af00; text-decoration-color: #00af00\">7</span>, <span style=\"color: #00af00; text-decoration-color: #00af00\">1280</span>)     │     <span style=\"color: #00af00; text-decoration-color: #00af00\">2,257,984</span> │\n",
       "│ (<span style=\"color: #0087ff; text-decoration-color: #0087ff\">Functional</span>)                    │                        │               │\n",
       "├─────────────────────────────────┼────────────────────────┼───────────────┤\n",
       "│ global_average_pooling2d_16     │ (<span style=\"color: #00d7ff; text-decoration-color: #00d7ff\">None</span>, <span style=\"color: #00af00; text-decoration-color: #00af00\">1280</span>)           │             <span style=\"color: #00af00; text-decoration-color: #00af00\">0</span> │\n",
       "│ (<span style=\"color: #0087ff; text-decoration-color: #0087ff\">GlobalAveragePooling2D</span>)        │                        │               │\n",
       "├─────────────────────────────────┼────────────────────────┼───────────────┤\n",
       "│ dropout_16 (<span style=\"color: #0087ff; text-decoration-color: #0087ff\">Dropout</span>)            │ (<span style=\"color: #00d7ff; text-decoration-color: #00d7ff\">None</span>, <span style=\"color: #00af00; text-decoration-color: #00af00\">1280</span>)           │             <span style=\"color: #00af00; text-decoration-color: #00af00\">0</span> │\n",
       "├─────────────────────────────────┼────────────────────────┼───────────────┤\n",
       "│ dense_18 (<span style=\"color: #0087ff; text-decoration-color: #0087ff\">Dense</span>)                │ (<span style=\"color: #00d7ff; text-decoration-color: #00d7ff\">None</span>, <span style=\"color: #00af00; text-decoration-color: #00af00\">1</span>)              │         <span style=\"color: #00af00; text-decoration-color: #00af00\">1,281</span> │\n",
       "└─────────────────────────────────┴────────────────────────┴───────────────┘\n",
       "</pre>\n"
      ],
      "text/plain": [
       "┏━━━━━━━━━━━━━━━━━━━━━━━━━━━━━━━━━┳━━━━━━━━━━━━━━━━━━━━━━━━┳━━━━━━━━━━━━━━━┓\n",
       "┃\u001b[1m \u001b[0m\u001b[1mLayer (type)                   \u001b[0m\u001b[1m \u001b[0m┃\u001b[1m \u001b[0m\u001b[1mOutput Shape          \u001b[0m\u001b[1m \u001b[0m┃\u001b[1m \u001b[0m\u001b[1m      Param #\u001b[0m\u001b[1m \u001b[0m┃\n",
       "┡━━━━━━━━━━━━━━━━━━━━━━━━━━━━━━━━━╇━━━━━━━━━━━━━━━━━━━━━━━━╇━━━━━━━━━━━━━━━┩\n",
       "│ mobilenetv2_1.00_224            │ (\u001b[38;5;45mNone\u001b[0m, \u001b[38;5;34m7\u001b[0m, \u001b[38;5;34m7\u001b[0m, \u001b[38;5;34m1280\u001b[0m)     │     \u001b[38;5;34m2,257,984\u001b[0m │\n",
       "│ (\u001b[38;5;33mFunctional\u001b[0m)                    │                        │               │\n",
       "├─────────────────────────────────┼────────────────────────┼───────────────┤\n",
       "│ global_average_pooling2d_16     │ (\u001b[38;5;45mNone\u001b[0m, \u001b[38;5;34m1280\u001b[0m)           │             \u001b[38;5;34m0\u001b[0m │\n",
       "│ (\u001b[38;5;33mGlobalAveragePooling2D\u001b[0m)        │                        │               │\n",
       "├─────────────────────────────────┼────────────────────────┼───────────────┤\n",
       "│ dropout_16 (\u001b[38;5;33mDropout\u001b[0m)            │ (\u001b[38;5;45mNone\u001b[0m, \u001b[38;5;34m1280\u001b[0m)           │             \u001b[38;5;34m0\u001b[0m │\n",
       "├─────────────────────────────────┼────────────────────────┼───────────────┤\n",
       "│ dense_18 (\u001b[38;5;33mDense\u001b[0m)                │ (\u001b[38;5;45mNone\u001b[0m, \u001b[38;5;34m1\u001b[0m)              │         \u001b[38;5;34m1,281\u001b[0m │\n",
       "└─────────────────────────────────┴────────────────────────┴───────────────┘\n"
      ]
     },
     "metadata": {},
     "output_type": "display_data"
    },
    {
     "data": {
      "text/html": [
       "<pre style=\"white-space:pre;overflow-x:auto;line-height:normal;font-family:Menlo,'DejaVu Sans Mono',consolas,'Courier New',monospace\"><span style=\"font-weight: bold\"> Total params: </span><span style=\"color: #00af00; text-decoration-color: #00af00\">2,259,265</span> (8.62 MB)\n",
       "</pre>\n"
      ],
      "text/plain": [
       "\u001b[1m Total params: \u001b[0m\u001b[38;5;34m2,259,265\u001b[0m (8.62 MB)\n"
      ]
     },
     "metadata": {},
     "output_type": "display_data"
    },
    {
     "data": {
      "text/html": [
       "<pre style=\"white-space:pre;overflow-x:auto;line-height:normal;font-family:Menlo,'DejaVu Sans Mono',consolas,'Courier New',monospace\"><span style=\"font-weight: bold\"> Trainable params: </span><span style=\"color: #00af00; text-decoration-color: #00af00\">1,281</span> (5.00 KB)\n",
       "</pre>\n"
      ],
      "text/plain": [
       "\u001b[1m Trainable params: \u001b[0m\u001b[38;5;34m1,281\u001b[0m (5.00 KB)\n"
      ]
     },
     "metadata": {},
     "output_type": "display_data"
    },
    {
     "data": {
      "text/html": [
       "<pre style=\"white-space:pre;overflow-x:auto;line-height:normal;font-family:Menlo,'DejaVu Sans Mono',consolas,'Courier New',monospace\"><span style=\"font-weight: bold\"> Non-trainable params: </span><span style=\"color: #00af00; text-decoration-color: #00af00\">2,257,984</span> (8.61 MB)\n",
       "</pre>\n"
      ],
      "text/plain": [
       "\u001b[1m Non-trainable params: \u001b[0m\u001b[38;5;34m2,257,984\u001b[0m (8.61 MB)\n"
      ]
     },
     "metadata": {},
     "output_type": "display_data"
    }
   ],
   "source": [
    "# Model\n",
    "base_model_4 = tf.keras.applications.MobileNetV2(\n",
    "    weights=\"imagenet\", include_top=False, input_shape=(224,224,3)\n",
    ")\n",
    "base_model_4.trainable = False\n",
    "\n",
    "model_4 = tf.keras.Sequential([\n",
    "    base_model_4,\n",
    "    tf.keras.layers.GlobalAveragePooling2D(),\n",
    "    tf.keras.layers.Dropout(0.3),\n",
    "    tf.keras.layers.Dense(1, activation=\"sigmoid\")\n",
    "])\n",
    "\n",
    "model_4.compile(\n",
    "    optimizer=tf.keras.optimizers.Adam(1e-4),\n",
    "    loss=\"binary_crossentropy\",\n",
    "    metrics=[\"accuracy\"]\n",
    ")\n",
    "\n",
    "model_4.summary()"
   ]
  },
  {
   "cell_type": "code",
   "execution_count": 166,
   "id": "0df45e2a",
   "metadata": {},
   "outputs": [
    {
     "name": "stdout",
     "output_type": "stream",
     "text": [
      "\n",
      "Training PIPELINE 4 (Raw Images)...\n",
      "\n",
      "Epoch 1/10\n"
     ]
    },
    {
     "name": "stdout",
     "output_type": "stream",
     "text": [
      "\u001b[1m17/17\u001b[0m \u001b[32m━━━━━━━━━━━━━━━━━━━━\u001b[0m\u001b[37m\u001b[0m \u001b[1m42s\u001b[0m 894ms/step - accuracy: 0.5038 - loss: 0.8053 - val_accuracy: 0.5179 - val_loss: 0.7255\n",
      "Epoch 2/10\n",
      "\u001b[1m17/17\u001b[0m \u001b[32m━━━━━━━━━━━━━━━━━━━━\u001b[0m\u001b[37m\u001b[0m \u001b[1m31s\u001b[0m 765ms/step - accuracy: 0.4769 - loss: 0.8089 - val_accuracy: 0.5536 - val_loss: 0.6855\n",
      "Epoch 3/10\n",
      "\u001b[1m17/17\u001b[0m \u001b[32m━━━━━━━━━━━━━━━━━━━━\u001b[0m\u001b[37m\u001b[0m \u001b[1m32s\u001b[0m 719ms/step - accuracy: 0.5346 - loss: 0.7519 - val_accuracy: 0.5893 - val_loss: 0.6623\n",
      "Epoch 4/10\n",
      "\u001b[1m17/17\u001b[0m \u001b[32m━━━━━━━━━━━━━━━━━━━━\u001b[0m\u001b[37m\u001b[0m \u001b[1m34s\u001b[0m 906ms/step - accuracy: 0.5654 - loss: 0.7175 - val_accuracy: 0.6250 - val_loss: 0.6416\n",
      "Epoch 5/10\n",
      "\u001b[1m17/17\u001b[0m \u001b[32m━━━━━━━━━━━━━━━━━━━━\u001b[0m\u001b[37m\u001b[0m \u001b[1m37s\u001b[0m 736ms/step - accuracy: 0.5654 - loss: 0.6842 - val_accuracy: 0.6429 - val_loss: 0.6238\n",
      "Epoch 6/10\n",
      "\u001b[1m17/17\u001b[0m \u001b[32m━━━━━━━━━━━━━━━━━━━━\u001b[0m\u001b[37m\u001b[0m \u001b[1m31s\u001b[0m 702ms/step - accuracy: 0.6000 - loss: 0.7113 - val_accuracy: 0.6964 - val_loss: 0.6074\n",
      "Epoch 7/10\n",
      "\u001b[1m17/17\u001b[0m \u001b[32m━━━━━━━━━━━━━━━━━━━━\u001b[0m\u001b[37m\u001b[0m \u001b[1m30s\u001b[0m 703ms/step - accuracy: 0.5885 - loss: 0.6916 - val_accuracy: 0.6786 - val_loss: 0.5946\n",
      "Epoch 8/10\n",
      "\u001b[1m17/17\u001b[0m \u001b[32m━━━━━━━━━━━━━━━━━━━━\u001b[0m\u001b[37m\u001b[0m \u001b[1m32s\u001b[0m 727ms/step - accuracy: 0.5731 - loss: 0.7081 - val_accuracy: 0.7143 - val_loss: 0.5823\n",
      "Epoch 9/10\n",
      "\u001b[1m17/17\u001b[0m \u001b[32m━━━━━━━━━━━━━━━━━━━━\u001b[0m\u001b[37m\u001b[0m \u001b[1m31s\u001b[0m 773ms/step - accuracy: 0.6500 - loss: 0.6282 - val_accuracy: 0.6964 - val_loss: 0.5735\n",
      "Epoch 10/10\n",
      "\u001b[1m17/17\u001b[0m \u001b[32m━━━━━━━━━━━━━━━━━━━━\u001b[0m\u001b[37m\u001b[0m \u001b[1m50s\u001b[0m 2s/step - accuracy: 0.6462 - loss: 0.6288 - val_accuracy: 0.6964 - val_loss: 0.5636\n"
     ]
    }
   ],
   "source": [
    "print(\"\\nTraining PIPELINE 4 (Raw Images)...\\n\")\n",
    "history_4 = model_4.fit(train_ds_4, validation_data=val_ds_4, epochs=10)"
   ]
  },
  {
   "cell_type": "code",
   "execution_count": 167,
   "id": "b8afae3c",
   "metadata": {},
   "outputs": [
    {
     "data": {
      "text/html": [
       "<pre style=\"white-space:pre;overflow-x:auto;line-height:normal;font-family:Menlo,'DejaVu Sans Mono',consolas,'Courier New',monospace\"><span style=\"font-weight: bold\">Model: \"sequential_16\"</span>\n",
       "</pre>\n"
      ],
      "text/plain": [
       "\u001b[1mModel: \"sequential_16\"\u001b[0m\n"
      ]
     },
     "metadata": {},
     "output_type": "display_data"
    },
    {
     "data": {
      "text/html": [
       "<pre style=\"white-space:pre;overflow-x:auto;line-height:normal;font-family:Menlo,'DejaVu Sans Mono',consolas,'Courier New',monospace\">┏━━━━━━━━━━━━━━━━━━━━━━━━━━━━━━━━━┳━━━━━━━━━━━━━━━━━━━━━━━━┳━━━━━━━━━━━━━━━┓\n",
       "┃<span style=\"font-weight: bold\"> Layer (type)                    </span>┃<span style=\"font-weight: bold\"> Output Shape           </span>┃<span style=\"font-weight: bold\">       Param # </span>┃\n",
       "┡━━━━━━━━━━━━━━━━━━━━━━━━━━━━━━━━━╇━━━━━━━━━━━━━━━━━━━━━━━━╇━━━━━━━━━━━━━━━┩\n",
       "│ mobilenetv2_1.00_224            │ (<span style=\"color: #00d7ff; text-decoration-color: #00d7ff\">None</span>, <span style=\"color: #00af00; text-decoration-color: #00af00\">7</span>, <span style=\"color: #00af00; text-decoration-color: #00af00\">7</span>, <span style=\"color: #00af00; text-decoration-color: #00af00\">1280</span>)     │     <span style=\"color: #00af00; text-decoration-color: #00af00\">2,257,984</span> │\n",
       "│ (<span style=\"color: #0087ff; text-decoration-color: #0087ff\">Functional</span>)                    │                        │               │\n",
       "├─────────────────────────────────┼────────────────────────┼───────────────┤\n",
       "│ global_average_pooling2d_17     │ (<span style=\"color: #00d7ff; text-decoration-color: #00d7ff\">None</span>, <span style=\"color: #00af00; text-decoration-color: #00af00\">1280</span>)           │             <span style=\"color: #00af00; text-decoration-color: #00af00\">0</span> │\n",
       "│ (<span style=\"color: #0087ff; text-decoration-color: #0087ff\">GlobalAveragePooling2D</span>)        │                        │               │\n",
       "├─────────────────────────────────┼────────────────────────┼───────────────┤\n",
       "│ dropout_17 (<span style=\"color: #0087ff; text-decoration-color: #0087ff\">Dropout</span>)            │ (<span style=\"color: #00d7ff; text-decoration-color: #00d7ff\">None</span>, <span style=\"color: #00af00; text-decoration-color: #00af00\">1280</span>)           │             <span style=\"color: #00af00; text-decoration-color: #00af00\">0</span> │\n",
       "├─────────────────────────────────┼────────────────────────┼───────────────┤\n",
       "│ dense_19 (<span style=\"color: #0087ff; text-decoration-color: #0087ff\">Dense</span>)                │ (<span style=\"color: #00d7ff; text-decoration-color: #00d7ff\">None</span>, <span style=\"color: #00af00; text-decoration-color: #00af00\">1</span>)              │         <span style=\"color: #00af00; text-decoration-color: #00af00\">1,281</span> │\n",
       "└─────────────────────────────────┴────────────────────────┴───────────────┘\n",
       "</pre>\n"
      ],
      "text/plain": [
       "┏━━━━━━━━━━━━━━━━━━━━━━━━━━━━━━━━━┳━━━━━━━━━━━━━━━━━━━━━━━━┳━━━━━━━━━━━━━━━┓\n",
       "┃\u001b[1m \u001b[0m\u001b[1mLayer (type)                   \u001b[0m\u001b[1m \u001b[0m┃\u001b[1m \u001b[0m\u001b[1mOutput Shape          \u001b[0m\u001b[1m \u001b[0m┃\u001b[1m \u001b[0m\u001b[1m      Param #\u001b[0m\u001b[1m \u001b[0m┃\n",
       "┡━━━━━━━━━━━━━━━━━━━━━━━━━━━━━━━━━╇━━━━━━━━━━━━━━━━━━━━━━━━╇━━━━━━━━━━━━━━━┩\n",
       "│ mobilenetv2_1.00_224            │ (\u001b[38;5;45mNone\u001b[0m, \u001b[38;5;34m7\u001b[0m, \u001b[38;5;34m7\u001b[0m, \u001b[38;5;34m1280\u001b[0m)     │     \u001b[38;5;34m2,257,984\u001b[0m │\n",
       "│ (\u001b[38;5;33mFunctional\u001b[0m)                    │                        │               │\n",
       "├─────────────────────────────────┼────────────────────────┼───────────────┤\n",
       "│ global_average_pooling2d_17     │ (\u001b[38;5;45mNone\u001b[0m, \u001b[38;5;34m1280\u001b[0m)           │             \u001b[38;5;34m0\u001b[0m │\n",
       "│ (\u001b[38;5;33mGlobalAveragePooling2D\u001b[0m)        │                        │               │\n",
       "├─────────────────────────────────┼────────────────────────┼───────────────┤\n",
       "│ dropout_17 (\u001b[38;5;33mDropout\u001b[0m)            │ (\u001b[38;5;45mNone\u001b[0m, \u001b[38;5;34m1280\u001b[0m)           │             \u001b[38;5;34m0\u001b[0m │\n",
       "├─────────────────────────────────┼────────────────────────┼───────────────┤\n",
       "│ dense_19 (\u001b[38;5;33mDense\u001b[0m)                │ (\u001b[38;5;45mNone\u001b[0m, \u001b[38;5;34m1\u001b[0m)              │         \u001b[38;5;34m1,281\u001b[0m │\n",
       "└─────────────────────────────────┴────────────────────────┴───────────────┘\n"
      ]
     },
     "metadata": {},
     "output_type": "display_data"
    },
    {
     "data": {
      "text/html": [
       "<pre style=\"white-space:pre;overflow-x:auto;line-height:normal;font-family:Menlo,'DejaVu Sans Mono',consolas,'Courier New',monospace\"><span style=\"font-weight: bold\"> Total params: </span><span style=\"color: #00af00; text-decoration-color: #00af00\">2,259,265</span> (8.62 MB)\n",
       "</pre>\n"
      ],
      "text/plain": [
       "\u001b[1m Total params: \u001b[0m\u001b[38;5;34m2,259,265\u001b[0m (8.62 MB)\n"
      ]
     },
     "metadata": {},
     "output_type": "display_data"
    },
    {
     "data": {
      "text/html": [
       "<pre style=\"white-space:pre;overflow-x:auto;line-height:normal;font-family:Menlo,'DejaVu Sans Mono',consolas,'Courier New',monospace\"><span style=\"font-weight: bold\"> Trainable params: </span><span style=\"color: #00af00; text-decoration-color: #00af00\">1,281</span> (5.00 KB)\n",
       "</pre>\n"
      ],
      "text/plain": [
       "\u001b[1m Trainable params: \u001b[0m\u001b[38;5;34m1,281\u001b[0m (5.00 KB)\n"
      ]
     },
     "metadata": {},
     "output_type": "display_data"
    },
    {
     "data": {
      "text/html": [
       "<pre style=\"white-space:pre;overflow-x:auto;line-height:normal;font-family:Menlo,'DejaVu Sans Mono',consolas,'Courier New',monospace\"><span style=\"font-weight: bold\"> Non-trainable params: </span><span style=\"color: #00af00; text-decoration-color: #00af00\">2,257,984</span> (8.61 MB)\n",
       "</pre>\n"
      ],
      "text/plain": [
       "\u001b[1m Non-trainable params: \u001b[0m\u001b[38;5;34m2,257,984\u001b[0m (8.61 MB)\n"
      ]
     },
     "metadata": {},
     "output_type": "display_data"
    }
   ],
   "source": [
    "# Model\n",
    "base_model_5 = tf.keras.applications.MobileNetV2(\n",
    "    weights=\"imagenet\", include_top=False, input_shape=(224,224,3)\n",
    ")\n",
    "base_model_5.trainable = False\n",
    "\n",
    "model_5 = tf.keras.Sequential([\n",
    "    base_model_5,\n",
    "    tf.keras.layers.GlobalAveragePooling2D(),\n",
    "    tf.keras.layers.Dropout(0.3),\n",
    "    tf.keras.layers.Dense(1, activation=\"sigmoid\")\n",
    "])\n",
    "\n",
    "model_5.compile(\n",
    "    optimizer=tf.keras.optimizers.Adam(1e-4),\n",
    "    loss=\"binary_crossentropy\",\n",
    "    metrics=[\"accuracy\"]\n",
    ")\n",
    "\n",
    "model_5.summary()"
   ]
  },
  {
   "cell_type": "code",
   "execution_count": 168,
   "id": "9d850f26",
   "metadata": {},
   "outputs": [
    {
     "name": "stdout",
     "output_type": "stream",
     "text": [
      "\n",
      "Training PIPELINE 1 (Raw Images)...\n",
      "\n",
      "Epoch 1/10\n",
      "\u001b[1m17/17\u001b[0m \u001b[32m━━━━━━━━━━━━━━━━━━━━\u001b[0m\u001b[37m\u001b[0m \u001b[1m24s\u001b[0m 681ms/step - accuracy: 0.4615 - loss: 0.9248 - val_accuracy: 0.3929 - val_loss: 0.8461\n",
      "Epoch 2/10\n",
      "\u001b[1m17/17\u001b[0m \u001b[32m━━━━━━━━━━━━━━━━━━━━\u001b[0m\u001b[37m\u001b[0m \u001b[1m13s\u001b[0m 589ms/step - accuracy: 0.4808 - loss: 0.8774 - val_accuracy: 0.5536 - val_loss: 0.7867\n",
      "Epoch 3/10\n",
      "\u001b[1m17/17\u001b[0m \u001b[32m━━━━━━━━━━━━━━━━━━━━\u001b[0m\u001b[37m\u001b[0m \u001b[1m12s\u001b[0m 527ms/step - accuracy: 0.5115 - loss: 0.8302 - val_accuracy: 0.6071 - val_loss: 0.7594\n",
      "Epoch 4/10\n",
      "\u001b[1m17/17\u001b[0m \u001b[32m━━━━━━━━━━━━━━━━━━━━\u001b[0m\u001b[37m\u001b[0m \u001b[1m12s\u001b[0m 525ms/step - accuracy: 0.5269 - loss: 0.7811 - val_accuracy: 0.6071 - val_loss: 0.7206\n",
      "Epoch 5/10\n",
      "\u001b[1m17/17\u001b[0m \u001b[32m━━━━━━━━━━━━━━━━━━━━\u001b[0m\u001b[37m\u001b[0m \u001b[1m12s\u001b[0m 535ms/step - accuracy: 0.5654 - loss: 0.7410 - val_accuracy: 0.6071 - val_loss: 0.6927\n",
      "Epoch 6/10\n",
      "\u001b[1m17/17\u001b[0m \u001b[32m━━━━━━━━━━━━━━━━━━━━\u001b[0m\u001b[37m\u001b[0m \u001b[1m31s\u001b[0m 1s/step - accuracy: 0.5423 - loss: 0.7354 - val_accuracy: 0.6786 - val_loss: 0.6724\n",
      "Epoch 7/10\n",
      "\u001b[1m17/17\u001b[0m \u001b[32m━━━━━━━━━━━━━━━━━━━━\u001b[0m\u001b[37m\u001b[0m \u001b[1m27s\u001b[0m 828ms/step - accuracy: 0.5769 - loss: 0.6865 - val_accuracy: 0.6607 - val_loss: 0.6327\n",
      "Epoch 8/10\n",
      "\u001b[1m17/17\u001b[0m \u001b[32m━━━━━━━━━━━━━━━━━━━━\u001b[0m\u001b[37m\u001b[0m \u001b[1m14s\u001b[0m 543ms/step - accuracy: 0.5808 - loss: 0.7034 - val_accuracy: 0.7500 - val_loss: 0.6094\n",
      "Epoch 9/10\n",
      "\u001b[1m17/17\u001b[0m \u001b[32m━━━━━━━━━━━━━━━━━━━━\u001b[0m\u001b[37m\u001b[0m \u001b[1m13s\u001b[0m 592ms/step - accuracy: 0.5885 - loss: 0.6923 - val_accuracy: 0.7321 - val_loss: 0.6189\n",
      "Epoch 10/10\n",
      "\u001b[1m17/17\u001b[0m \u001b[32m━━━━━━━━━━━━━━━━━━━━\u001b[0m\u001b[37m\u001b[0m \u001b[1m13s\u001b[0m 563ms/step - accuracy: 0.6115 - loss: 0.6752 - val_accuracy: 0.8214 - val_loss: 0.5778\n"
     ]
    }
   ],
   "source": [
    "print(\"\\nTraining PIPELINE 1 (Raw Images)...\\n\")\n",
    "history_5 = model_5.fit(train_ds_5, validation_data=val_ds_5, epochs=10)"
   ]
  },
  {
   "cell_type": "code",
   "execution_count": 169,
   "id": "2217d0fe",
   "metadata": {},
   "outputs": [],
   "source": [
    "# ==============================================================\n",
    "# 📌 Evaluation Helper\n",
    "# ==============================================================\n",
    "\n",
    "def evaluate_and_report(model, dataset, split_name=\"Validation\"):\n",
    "    y_true, y_pred = [], []\n",
    "    for imgs, lbls in dataset:\n",
    "        preds = model.predict(imgs, verbose=0)\n",
    "        y_true.extend(lbls.numpy())\n",
    "        y_pred.extend((preds > 0.5).astype(\"int32\").flatten())\n",
    "\n",
    "    print(f\"\\n{split_name} -> Accuracy:\", np.mean(np.array(y_true) == np.array(y_pred)))\n",
    "    print(classification_report(y_true, y_pred, target_names=classes))\n",
    "\n",
    "    cm = confusion_matrix(y_true, y_pred)\n",
    "    sns.heatmap(cm, annot=True, fmt=\"d\", cmap=\"Blues\",\n",
    "                xticklabels=classes, yticklabels=classes)\n",
    "    plt.title(f\"{split_name} Confusion Matrix\")\n",
    "    plt.xlabel(\"Predicted\")\n",
    "    plt.ylabel(\"True\")\n",
    "    plt.show()"
   ]
  },
  {
   "cell_type": "code",
   "execution_count": 170,
   "id": "3492aca7",
   "metadata": {},
   "outputs": [
    {
     "name": "stdout",
     "output_type": "stream",
     "text": [
      "\n",
      "EVALUATION: PIPELINE 3 (Raw Images)\n",
      "\n",
      "Validation -> Accuracy: 0.5178571428571429\n",
      "              precision    recall  f1-score   support\n",
      "\n",
      "      normal       1.00      0.04      0.07        28\n",
      "osteoporosis       0.51      1.00      0.67        28\n",
      "\n",
      "    accuracy                           0.52        56\n",
      "   macro avg       0.75      0.52      0.37        56\n",
      "weighted avg       0.75      0.52      0.37        56\n",
      "\n"
     ]
    },
    {
     "data": {
      "image/png": "[encoded data removed]",
      "text/plain": [
       "<Figure size 640x480 with 2 Axes>"
      ]
     },
     "metadata": {},
     "output_type": "display_data"
    },
    {
     "name": "stdout",
     "output_type": "stream",
     "text": [
      "\n",
      "Test -> Accuracy: 0.5\n",
      "              precision    recall  f1-score   support\n",
      "\n",
      "      normal       0.00      0.00      0.00        28\n",
      "osteoporosis       0.50      1.00      0.67        28\n",
      "\n",
      "    accuracy                           0.50        56\n",
      "   macro avg       0.25      0.50      0.33        56\n",
      "weighted avg       0.25      0.50      0.33        56\n",
      "\n"
     ]
    },
    {
     "name": "stderr",
     "output_type": "stream",
     "text": [
      "C:\\Users\\jaina\\AppData\\Roaming\\Python\\Python311\\site-packages\\sklearn\\metrics\\_classification.py:1731: UndefinedMetricWarning: Precision is ill-defined and being set to 0.0 in labels with no predicted samples. Use `zero_division` parameter to control this behavior.\n",
      "  _warn_prf(average, modifier, f\"{metric.capitalize()} is\", result.shape[0])\n",
      "C:\\Users\\jaina\\AppData\\Roaming\\Python\\Python311\\site-packages\\sklearn\\metrics\\_classification.py:1731: UndefinedMetricWarning: Precision is ill-defined and being set to 0.0 in labels with no predicted samples. Use `zero_division` parameter to control this behavior.\n",
      "  _warn_prf(average, modifier, f\"{metric.capitalize()} is\", result.shape[0])\n",
      "C:\\Users\\jaina\\AppData\\Roaming\\Python\\Python311\\site-packages\\sklearn\\metrics\\_classification.py:1731: UndefinedMetricWarning: Precision is ill-defined and being set to 0.0 in labels with no predicted samples. Use `zero_division` parameter to control this behavior.\n",
      "  _warn_prf(average, modifier, f\"{metric.capitalize()} is\", result.shape[0])\n"
     ]
    },
    {
     "data": {
      "image/png": "[encoded data removed]",
      "text/plain": [
       "<Figure size 640x480 with 2 Axes>"
      ]
     },
     "metadata": {},
     "output_type": "display_data"
    },
    {
     "name": "stdout",
     "output_type": "stream",
     "text": [
      "\n",
      "EVALUATION: PIPELINE 4 (Normalization Only)\n",
      "\n",
      "Validation -> Accuracy: 0.6964285714285714\n",
      "              precision    recall  f1-score   support\n",
      "\n",
      "      normal       0.72      0.64      0.68        28\n",
      "osteoporosis       0.68      0.75      0.71        28\n",
      "\n",
      "    accuracy                           0.70        56\n",
      "   macro avg       0.70      0.70      0.70        56\n",
      "weighted avg       0.70      0.70      0.70        56\n",
      "\n"
     ]
    },
    {
     "data": {
      "image/png": "[encoded data removed]",
      "text/plain": [
       "<Figure size 640x480 with 2 Axes>"
      ]
     },
     "metadata": {},
     "output_type": "display_data"
    },
    {
     "name": "stdout",
     "output_type": "stream",
     "text": [
      "\n",
      "Test -> Accuracy: 0.6964285714285714\n",
      "              precision    recall  f1-score   support\n",
      "\n",
      "      normal       0.76      0.57      0.65        28\n",
      "osteoporosis       0.66      0.82      0.73        28\n",
      "\n",
      "    accuracy                           0.70        56\n",
      "   macro avg       0.71      0.70      0.69        56\n",
      "weighted avg       0.71      0.70      0.69        56\n",
      "\n"
     ]
    },
    {
     "data": {
      "image/png": "[encoded data removed]",
      "text/plain": [
       "<Figure size 640x480 with 2 Axes>"
      ]
     },
     "metadata": {},
     "output_type": "display_data"
    },
    {
     "name": "stdout",
     "output_type": "stream",
     "text": [
      "\n",
      "EVALUATION: PIPELINE 5 (Normalization Only)\n",
      "\n",
      "Validation -> Accuracy: 0.7857142857142857\n",
      "              precision    recall  f1-score   support\n",
      "\n",
      "      normal       0.83      0.71      0.77        28\n",
      "osteoporosis       0.75      0.86      0.80        28\n",
      "\n",
      "    accuracy                           0.79        56\n",
      "   macro avg       0.79      0.79      0.78        56\n",
      "weighted avg       0.79      0.79      0.78        56\n",
      "\n"
     ]
    },
    {
     "data": {
      "image/png": "[encoded data removed]",
      "text/plain": [
       "<Figure size 640x480 with 2 Axes>"
      ]
     },
     "metadata": {},
     "output_type": "display_data"
    },
    {
     "name": "stdout",
     "output_type": "stream",
     "text": [
      "\n",
      "Test -> Accuracy: 0.6785714285714286\n",
      "              precision    recall  f1-score   support\n",
      "\n",
      "      normal       0.68      0.68      0.68        28\n",
      "osteoporosis       0.68      0.68      0.68        28\n",
      "\n",
      "    accuracy                           0.68        56\n",
      "   macro avg       0.68      0.68      0.68        56\n",
      "weighted avg       0.68      0.68      0.68        56\n",
      "\n"
     ]
    },
    {
     "data": {
      "image/png": "[encoded data removed]",
      "text/plain": [
       "<Figure size 640x480 with 2 Axes>"
      ]
     },
     "metadata": {},
     "output_type": "display_data"
    }
   ],
   "source": [
    "# ===============================\n",
    "# 📌 Evaluate Both Pipelines\n",
    "# ===============================\n",
    "print(\"\\nEVALUATION: PIPELINE 3 (Raw Images)\")\n",
    "evaluate_and_report(model_3, val_ds_3, \"Validation\")\n",
    "evaluate_and_report(model_3, test_ds_3, \"Test\")\n",
    "\n",
    "print(\"\\nEVALUATION: PIPELINE 4 (Normalization Only)\")\n",
    "evaluate_and_report(model_4, val_ds_4, \"Validation\")\n",
    "evaluate_and_report(model_4, test_ds_4, \"Test\")\n",
    "\n",
    "print(\"\\nEVALUATION: PIPELINE 5 (Normalization Only)\")\n",
    "evaluate_and_report(model_5, val_ds_5, \"Validation\")\n",
    "evaluate_and_report(model_5, test_ds_5, \"Test\")"
   ]
  },
  {
   "cell_type": "code",
   "execution_count": 171,
   "id": "850c23ff",
   "metadata": {},
   "outputs": [
    {
     "name": "stdout",
     "output_type": "stream",
     "text": [
      "Total images: 372\n",
      "Train: 260, Val: 56, Test: 56\n",
      "\n",
      "=== Dataset Sizes After Augmentation Pipelines ===\n",
      "Train set size (after pipeline): 260\n",
      "Val set size   (after pipeline): 56\n",
      "Test set size  (after pipeline): 56\n"
     ]
    }
   ],
   "source": [
    "print(\"Total images:\", len(all_image_paths))\n",
    "print(f\"Train: {len(train_paths)}, Val: {len(val_paths)}, Test: {len(test_paths)}\")\n",
    "\n",
    "# If you want to count batches from TF datasets:\n",
    "train_count = sum(1 for _ in train_ds_3.unbatch())\n",
    "val_count   = sum(1 for _ in val_ds_3.unbatch())\n",
    "test_count  = sum(1 for _ in test_ds_3.unbatch())\n",
    "\n",
    "print(\"\\n=== Dataset Sizes After Augmentation Pipelines ===\")\n",
    "print(f\"Train set size (after pipeline): {train_count}\")\n",
    "print(f\"Val set size   (after pipeline): {val_count}\")\n",
    "print(f\"Test set size  (after pipeline): {test_count}\")\n"
   ]
  },
  {
   "cell_type": "code",
   "execution_count": 173,
   "id": "e83088d3",
   "metadata": {},
   "outputs": [],
   "source": [
    "# -----------------------------\n",
    "# Pipeline 6: CLAHE + Augmentation + Dataset Expansion\n",
    "# -----------------------------\n",
    "def preprocess_6_img(path, label):\n",
    "    \"\"\"Preprocess: resize + CLAHE + normalization\"\"\"\n",
    "    def _process(path_str):\n",
    "        img = cv2.imread(path_str.decode(), cv2.IMREAD_COLOR)\n",
    "        if img is None:\n",
    "            img = np.zeros((224, 224, 3), dtype=np.uint8)\n",
    "        else:\n",
    "            img = cv2.resize(img, (224, 224))\n",
    "            img = apply_clahe(img)\n",
    "        img = img.astype(\"float32\") / 255.0\n",
    "        return img\n",
    "    img = tf.numpy_function(_process, [path], tf.float32)\n",
    "    img = tf.ensure_shape(img, (224, 224, 3))\n",
    "    return img, label\n",
    "\n",
    "\n",
    "def augment_image(img, label, num_aug=2):\n",
    "    \"\"\"Return dataset with original + num_aug augmented copies\"\"\"\n",
    "    datasets = []\n",
    "\n",
    "    # original\n",
    "    datasets.append(tf.data.Dataset.from_tensors((img, label)))\n",
    "\n",
    "    # augmented copies\n",
    "    for _ in range(num_aug):\n",
    "        aug_img = tf.image.random_flip_left_right(img)\n",
    "        aug_img = tf.image.random_brightness(aug_img, max_delta=0.1)\n",
    "        aug_img = tf.image.random_contrast(aug_img, 0.9, 1.1)\n",
    "        datasets.append(tf.data.Dataset.from_tensors((aug_img, label)))\n",
    "\n",
    "    # merge all datasets\n",
    "    ds = datasets[0]\n",
    "    for extra in datasets[1:]:\n",
    "        ds = ds.concatenate(extra)\n",
    "\n",
    "    return ds\n",
    "\n",
    "\n",
    "def make_dataset_6(paths, labels, num_aug=2):\n",
    "    \"\"\"Build dataset for pipeline 6 with expansion\"\"\"\n",
    "    base_ds = tf.data.Dataset.from_tensor_slices((paths, labels))\n",
    "    base_ds = base_ds.map(preprocess_6_img, num_parallel_calls=AUTOTUNE)\n",
    "\n",
    "    # expand dataset: each image → original + num_aug augmentations\n",
    "    base_ds = base_ds.flat_map(lambda x, y: augment_image(x, y, num_aug))\n",
    "\n",
    "    return base_ds.shuffle(512).batch(BATCH_SIZE).prefetch(AUTOTUNE)\n",
    "\n",
    "\n",
    "# Build datasets for Pipeline 6\n",
    "train_ds_6 = make_dataset_6(train_paths, train_labels, num_aug=2)  # tripled\n",
    "val_ds_6   = make_dataset_6(val_paths, val_labels, num_aug=0)      # no augmentation\n",
    "test_ds_6  = make_dataset_6(test_paths, test_labels, num_aug=0)    # no augmentation\n"
   ]
  },
  {
   "cell_type": "code",
   "execution_count": 174,
   "id": "26fe3917",
   "metadata": {},
   "outputs": [
    {
     "name": "stdout",
     "output_type": "stream",
     "text": [
      "\n",
      "=== Pipeline 6 Dataset Sizes (Expanded) ===\n",
      "Train set size: 780\n",
      "Val set size  : 56\n",
      "Test set size : 56\n"
     ]
    }
   ],
   "source": [
    "train_count_6 = sum(1 for _ in train_ds_6.unbatch())\n",
    "val_count_6   = sum(1 for _ in val_ds_6.unbatch())\n",
    "test_count_6  = sum(1 for _ in test_ds_6.unbatch())\n",
    "\n",
    "print(\"\\n=== Pipeline 6 Dataset Sizes (Expanded) ===\")\n",
    "print(f\"Train set size: {train_count_6}\")   # ~3× train_paths\n",
    "print(f\"Val set size  : {val_count_6}\")     # same as val_paths\n",
    "print(f\"Test set size : {test_count_6}\")    # same as test_paths\n"
   ]
  },
  {
   "cell_type": "code",
   "execution_count": 175,
   "id": "38d88b20",
   "metadata": {},
   "outputs": [
    {
     "data": {
      "text/html": [
       "<pre style=\"white-space:pre;overflow-x:auto;line-height:normal;font-family:Menlo,'DejaVu Sans Mono',consolas,'Courier New',monospace\"><span style=\"font-weight: bold\">Model: \"sequential_17\"</span>\n",
       "</pre>\n"
      ],
      "text/plain": [
       "\u001b[1mModel: \"sequential_17\"\u001b[0m\n"
      ]
     },
     "metadata": {},
     "output_type": "display_data"
    },
    {
     "data": {
      "text/html": [
       "<pre style=\"white-space:pre;overflow-x:auto;line-height:normal;font-family:Menlo,'DejaVu Sans Mono',consolas,'Courier New',monospace\">┏━━━━━━━━━━━━━━━━━━━━━━━━━━━━━━━━━┳━━━━━━━━━━━━━━━━━━━━━━━━┳━━━━━━━━━━━━━━━┓\n",
       "┃<span style=\"font-weight: bold\"> Layer (type)                    </span>┃<span style=\"font-weight: bold\"> Output Shape           </span>┃<span style=\"font-weight: bold\">       Param # </span>┃\n",
       "┡━━━━━━━━━━━━━━━━━━━━━━━━━━━━━━━━━╇━━━━━━━━━━━━━━━━━━━━━━━━╇━━━━━━━━━━━━━━━┩\n",
       "│ mobilenetv2_1.00_224            │ (<span style=\"color: #00d7ff; text-decoration-color: #00d7ff\">None</span>, <span style=\"color: #00af00; text-decoration-color: #00af00\">7</span>, <span style=\"color: #00af00; text-decoration-color: #00af00\">7</span>, <span style=\"color: #00af00; text-decoration-color: #00af00\">1280</span>)     │     <span style=\"color: #00af00; text-decoration-color: #00af00\">2,257,984</span> │\n",
       "│ (<span style=\"color: #0087ff; text-decoration-color: #0087ff\">Functional</span>)                    │                        │               │\n",
       "├─────────────────────────────────┼────────────────────────┼───────────────┤\n",
       "│ global_average_pooling2d_18     │ (<span style=\"color: #00d7ff; text-decoration-color: #00d7ff\">None</span>, <span style=\"color: #00af00; text-decoration-color: #00af00\">1280</span>)           │             <span style=\"color: #00af00; text-decoration-color: #00af00\">0</span> │\n",
       "│ (<span style=\"color: #0087ff; text-decoration-color: #0087ff\">GlobalAveragePooling2D</span>)        │                        │               │\n",
       "├─────────────────────────────────┼────────────────────────┼───────────────┤\n",
       "│ dropout_18 (<span style=\"color: #0087ff; text-decoration-color: #0087ff\">Dropout</span>)            │ (<span style=\"color: #00d7ff; text-decoration-color: #00d7ff\">None</span>, <span style=\"color: #00af00; text-decoration-color: #00af00\">1280</span>)           │             <span style=\"color: #00af00; text-decoration-color: #00af00\">0</span> │\n",
       "├─────────────────────────────────┼────────────────────────┼───────────────┤\n",
       "│ dense_20 (<span style=\"color: #0087ff; text-decoration-color: #0087ff\">Dense</span>)                │ (<span style=\"color: #00d7ff; text-decoration-color: #00d7ff\">None</span>, <span style=\"color: #00af00; text-decoration-color: #00af00\">1</span>)              │         <span style=\"color: #00af00; text-decoration-color: #00af00\">1,281</span> │\n",
       "└─────────────────────────────────┴────────────────────────┴───────────────┘\n",
       "</pre>\n"
      ],
      "text/plain": [
       "┏━━━━━━━━━━━━━━━━━━━━━━━━━━━━━━━━━┳━━━━━━━━━━━━━━━━━━━━━━━━┳━━━━━━━━━━━━━━━┓\n",
       "┃\u001b[1m \u001b[0m\u001b[1mLayer (type)                   \u001b[0m\u001b[1m \u001b[0m┃\u001b[1m \u001b[0m\u001b[1mOutput Shape          \u001b[0m\u001b[1m \u001b[0m┃\u001b[1m \u001b[0m\u001b[1m      Param #\u001b[0m\u001b[1m \u001b[0m┃\n",
       "┡━━━━━━━━━━━━━━━━━━━━━━━━━━━━━━━━━╇━━━━━━━━━━━━━━━━━━━━━━━━╇━━━━━━━━━━━━━━━┩\n",
       "│ mobilenetv2_1.00_224            │ (\u001b[38;5;45mNone\u001b[0m, \u001b[38;5;34m7\u001b[0m, \u001b[38;5;34m7\u001b[0m, \u001b[38;5;34m1280\u001b[0m)     │     \u001b[38;5;34m2,257,984\u001b[0m │\n",
       "│ (\u001b[38;5;33mFunctional\u001b[0m)                    │                        │               │\n",
       "├─────────────────────────────────┼────────────────────────┼───────────────┤\n",
       "│ global_average_pooling2d_18     │ (\u001b[38;5;45mNone\u001b[0m, \u001b[38;5;34m1280\u001b[0m)           │             \u001b[38;5;34m0\u001b[0m │\n",
       "│ (\u001b[38;5;33mGlobalAveragePooling2D\u001b[0m)        │                        │               │\n",
       "├─────────────────────────────────┼────────────────────────┼───────────────┤\n",
       "│ dropout_18 (\u001b[38;5;33mDropout\u001b[0m)            │ (\u001b[38;5;45mNone\u001b[0m, \u001b[38;5;34m1280\u001b[0m)           │             \u001b[38;5;34m0\u001b[0m │\n",
       "├─────────────────────────────────┼────────────────────────┼───────────────┤\n",
       "│ dense_20 (\u001b[38;5;33mDense\u001b[0m)                │ (\u001b[38;5;45mNone\u001b[0m, \u001b[38;5;34m1\u001b[0m)              │         \u001b[38;5;34m1,281\u001b[0m │\n",
       "└─────────────────────────────────┴────────────────────────┴───────────────┘\n"
      ]
     },
     "metadata": {},
     "output_type": "display_data"
    },
    {
     "data": {
      "text/html": [
       "<pre style=\"white-space:pre;overflow-x:auto;line-height:normal;font-family:Menlo,'DejaVu Sans Mono',consolas,'Courier New',monospace\"><span style=\"font-weight: bold\"> Total params: </span><span style=\"color: #00af00; text-decoration-color: #00af00\">2,259,265</span> (8.62 MB)\n",
       "</pre>\n"
      ],
      "text/plain": [
       "\u001b[1m Total params: \u001b[0m\u001b[38;5;34m2,259,265\u001b[0m (8.62 MB)\n"
      ]
     },
     "metadata": {},
     "output_type": "display_data"
    },
    {
     "data": {
      "text/html": [
       "<pre style=\"white-space:pre;overflow-x:auto;line-height:normal;font-family:Menlo,'DejaVu Sans Mono',consolas,'Courier New',monospace\"><span style=\"font-weight: bold\"> Trainable params: </span><span style=\"color: #00af00; text-decoration-color: #00af00\">1,281</span> (5.00 KB)\n",
       "</pre>\n"
      ],
      "text/plain": [
       "\u001b[1m Trainable params: \u001b[0m\u001b[38;5;34m1,281\u001b[0m (5.00 KB)\n"
      ]
     },
     "metadata": {},
     "output_type": "display_data"
    },
    {
     "data": {
      "text/html": [
       "<pre style=\"white-space:pre;overflow-x:auto;line-height:normal;font-family:Menlo,'DejaVu Sans Mono',consolas,'Courier New',monospace\"><span style=\"font-weight: bold\"> Non-trainable params: </span><span style=\"color: #00af00; text-decoration-color: #00af00\">2,257,984</span> (8.61 MB)\n",
       "</pre>\n"
      ],
      "text/plain": [
       "\u001b[1m Non-trainable params: \u001b[0m\u001b[38;5;34m2,257,984\u001b[0m (8.61 MB)\n"
      ]
     },
     "metadata": {},
     "output_type": "display_data"
    }
   ],
   "source": [
    "# Model\n",
    "base_model_6 = tf.keras.applications.MobileNetV2(\n",
    "    weights=\"imagenet\", include_top=False, input_shape=(224,224,3)\n",
    ")\n",
    "base_model_6.trainable = False\n",
    "\n",
    "model_6 = tf.keras.Sequential([\n",
    "    base_model_6,\n",
    "    tf.keras.layers.GlobalAveragePooling2D(),\n",
    "    tf.keras.layers.Dropout(0.3),\n",
    "    tf.keras.layers.Dense(1, activation=\"sigmoid\")\n",
    "])\n",
    "\n",
    "model_6.compile(\n",
    "    optimizer=tf.keras.optimizers.Adam(1e-4),\n",
    "    loss=\"binary_crossentropy\",\n",
    "    metrics=[\"accuracy\"]\n",
    ")\n",
    "\n",
    "model_6.summary()"
   ]
  },
  {
   "cell_type": "code",
   "execution_count": 176,
   "id": "946a4d0b",
   "metadata": {},
   "outputs": [
    {
     "name": "stdout",
     "output_type": "stream",
     "text": [
      "\n",
      "Training PIPELINE 1 (Raw Images)...\n",
      "\n",
      "Epoch 1/10\n",
      "\u001b[1m17/17\u001b[0m \u001b[32m━━━━━━━━━━━━━━━━━━━━\u001b[0m\u001b[37m\u001b[0m \u001b[1m34s\u001b[0m 1s/step - accuracy: 0.6077 - loss: 0.7218 - val_accuracy: 0.7679 - val_loss: 0.5547\n",
      "Epoch 2/10\n",
      "\u001b[1m17/17\u001b[0m \u001b[32m━━━━━━━━━━━━━━━━━━━━\u001b[0m\u001b[37m\u001b[0m \u001b[1m19s\u001b[0m 863ms/step - accuracy: 0.6615 - loss: 0.6321 - val_accuracy: 0.7679 - val_loss: 0.5332\n",
      "Epoch 3/10\n",
      "\u001b[1m17/17\u001b[0m \u001b[32m━━━━━━━━━━━━━━━━━━━━\u001b[0m\u001b[37m\u001b[0m \u001b[1m15s\u001b[0m 584ms/step - accuracy: 0.6923 - loss: 0.5802 - val_accuracy: 0.7857 - val_loss: 0.5216\n",
      "Epoch 4/10\n",
      "\u001b[1m17/17\u001b[0m \u001b[32m━━━━━━━━━━━━━━━━━━━━\u001b[0m\u001b[37m\u001b[0m \u001b[1m13s\u001b[0m 573ms/step - accuracy: 0.6500 - loss: 0.6376 - val_accuracy: 0.7857 - val_loss: 0.5153\n",
      "Epoch 5/10\n",
      "\u001b[1m17/17\u001b[0m \u001b[32m━━━━━━━━━━━━━━━━━━━━\u001b[0m\u001b[37m\u001b[0m \u001b[1m32s\u001b[0m 922ms/step - accuracy: 0.6962 - loss: 0.6028 - val_accuracy: 0.7679 - val_loss: 0.5061\n",
      "Epoch 6/10\n",
      "\u001b[1m17/17\u001b[0m \u001b[32m━━━━━━━━━━━━━━━━━━━━\u001b[0m\u001b[37m\u001b[0m \u001b[1m30s\u001b[0m 541ms/step - accuracy: 0.6577 - loss: 0.6251 - val_accuracy: 0.7679 - val_loss: 0.5018\n",
      "Epoch 7/10\n",
      "\u001b[1m17/17\u001b[0m \u001b[32m━━━━━━━━━━━━━━━━━━━━\u001b[0m\u001b[37m\u001b[0m \u001b[1m11s\u001b[0m 508ms/step - accuracy: 0.7077 - loss: 0.6099 - val_accuracy: 0.7500 - val_loss: 0.5107\n",
      "Epoch 8/10\n",
      "\u001b[1m17/17\u001b[0m \u001b[32m━━━━━━━━━━━━━━━━━━━━\u001b[0m\u001b[37m\u001b[0m \u001b[1m11s\u001b[0m 502ms/step - accuracy: 0.7115 - loss: 0.6211 - val_accuracy: 0.7857 - val_loss: 0.4837\n",
      "Epoch 9/10\n",
      "\u001b[1m17/17\u001b[0m \u001b[32m━━━━━━━━━━━━━━━━━━━━\u001b[0m\u001b[37m\u001b[0m \u001b[1m11s\u001b[0m 540ms/step - accuracy: 0.7423 - loss: 0.5425 - val_accuracy: 0.7679 - val_loss: 0.4943\n",
      "Epoch 10/10\n",
      "\u001b[1m17/17\u001b[0m \u001b[32m━━━━━━━━━━━━━━━━━━━━\u001b[0m\u001b[37m\u001b[0m \u001b[1m15s\u001b[0m 679ms/step - accuracy: 0.7269 - loss: 0.5742 - val_accuracy: 0.7857 - val_loss: 0.4909\n"
     ]
    }
   ],
   "source": [
    "print(\"\\nTraining PIPELINE 1 (Raw Images)...\\n\")\n",
    "history_6 = model_6.fit(train_ds_5, validation_data=val_ds_5, epochs=10)"
   ]
  },
  {
   "cell_type": "code",
   "execution_count": 177,
   "id": "27bdf95d",
   "metadata": {},
   "outputs": [
    {
     "name": "stdout",
     "output_type": "stream",
     "text": [
      "\n",
      "EVALUATION: PIPELINE 6 (Normalization Only)\n",
      "\n",
      "Validation -> Accuracy: 0.8035714285714286\n",
      "              precision    recall  f1-score   support\n",
      "\n",
      "      normal       0.90      0.68      0.78        28\n",
      "osteoporosis       0.74      0.93      0.83        28\n",
      "\n",
      "    accuracy                           0.80        56\n",
      "   macro avg       0.82      0.80      0.80        56\n",
      "weighted avg       0.82      0.80      0.80        56\n",
      "\n"
     ]
    },
    {
     "data": {
      "image/png": "[encoded data removed]",
      "text/plain": [
       "<Figure size 640x480 with 2 Axes>"
      ]
     },
     "metadata": {},
     "output_type": "display_data"
    },
    {
     "name": "stdout",
     "output_type": "stream",
     "text": [
      "\n",
      "Test -> Accuracy: 0.8214285714285714\n",
      "              precision    recall  f1-score   support\n",
      "\n",
      "      normal       0.91      0.71      0.80        28\n",
      "osteoporosis       0.76      0.93      0.84        28\n",
      "\n",
      "    accuracy                           0.82        56\n",
      "   macro avg       0.84      0.82      0.82        56\n",
      "weighted avg       0.84      0.82      0.82        56\n",
      "\n"
     ]
    },
    {
     "data": {
      "image/png": "[encoded data removed]",
      "text/plain": [
       "<Figure size 640x480 with 2 Axes>"
      ]
     },
     "metadata": {},
     "output_type": "display_data"
    }
   ],
   "source": [
    "print(\"\\nEVALUATION: PIPELINE 6 (Normalization Only)\")\n",
    "evaluate_and_report(model_6, val_ds_6, \"Validation\")\n",
    "evaluate_and_report(model_6, test_ds_6, \"Test\")"
   ]
  }
 ],
 "metadata": {
  "language_info": {
   "name": "python"
  }
 },
 "nbformat": 4,
 "nbformat_minor": 5
}
