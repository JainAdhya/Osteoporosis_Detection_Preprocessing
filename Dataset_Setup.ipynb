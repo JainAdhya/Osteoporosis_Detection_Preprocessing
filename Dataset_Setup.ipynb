{
 "cells": [
  {
   "cell_type": "code",
   "execution_count": 2,
   "id": "4cf0c7b9",
   "metadata": {},
   "outputs": [],
   "source": [
    "import os\n",
    "import shutil"
   ]
  },
  {
   "cell_type": "code",
   "execution_count": 4,
   "id": "847d011d",
   "metadata": {},
   "outputs": [],
   "source": [
    "# Define paths\n",
    "src_root = \"dataset\"\n",
    "dst_root = \"dataset_new\"\n",
    "\n",
    "# The two class folders\n",
    "classes = [\"normal\", \"osteoporosis\"]"
   ]
  },
  {
   "cell_type": "code",
   "execution_count": 5,
   "id": "a2fe8df9",
   "metadata": {},
   "outputs": [
    {
     "name": "stdout",
     "output_type": "stream",
     "text": [
      "✅ All images have been copied successfully!\n"
     ]
    }
   ],
   "source": [
    "for cls in classes:\n",
    "    src_folder = os.path.join(src_root, cls)\n",
    "    dst_folder = os.path.join(dst_root, cls)\n",
    "\n",
    "    # Make sure destination folder exists\n",
    "    os.makedirs(dst_folder, exist_ok=True)\n",
    "\n",
    "    # Copy all files\n",
    "    for file_name in os.listdir(src_folder):\n",
    "        src_path = os.path.join(src_folder, file_name)\n",
    "        dst_path = os.path.join(dst_folder, file_name)\n",
    "\n",
    "        # Avoid overwriting by renaming if file exists\n",
    "        if os.path.exists(dst_path):\n",
    "            base, ext = os.path.splitext(file_name)\n",
    "            i = 1\n",
    "            new_file_name = f\"{base}_{i}{ext}\"\n",
    "            new_dst_path = os.path.join(dst_folder, new_file_name)\n",
    "\n",
    "            while os.path.exists(new_dst_path):\n",
    "                i += 1\n",
    "                new_file_name = f\"{base}_{i}{ext}\"\n",
    "                new_dst_path = os.path.join(dst_folder, new_file_name)\n",
    "\n",
    "            dst_path = new_dst_path\n",
    "\n",
    "        shutil.copy2(src_path, dst_path)\n",
    "\n",
    "print(\"✅ All images have been copied successfully!\")"
   ]
  },
  {
   "cell_type": "code",
   "execution_count": 8,
   "id": "b26837c2",
   "metadata": {},
   "outputs": [],
   "source": [
    "# Source and destination\n",
    "src_root = \"OS Collected Data\"\n",
    "dst_root = \"dataset_new\""
   ]
  },
  {
   "cell_type": "code",
   "execution_count": 9,
   "id": "56d50731",
   "metadata": {},
   "outputs": [
    {
     "name": "stdout",
     "output_type": "stream",
     "text": [
      "✅ All images from os_collected_data have been moved into dataset_new successfully!\n"
     ]
    }
   ],
   "source": [
    "# The two class folders\n",
    "classes = [\"normal\", \"osteoporosis\"]\n",
    "\n",
    "for cls in classes:\n",
    "    src_folder = os.path.join(src_root, cls)\n",
    "    dst_folder = os.path.join(dst_root, cls)\n",
    "\n",
    "    # Make sure destination folder exists\n",
    "    os.makedirs(dst_folder, exist_ok=True)\n",
    "\n",
    "    # Move all files\n",
    "    for file_name in os.listdir(src_folder):\n",
    "        src_path = os.path.join(src_folder, file_name)\n",
    "        dst_path = os.path.join(dst_folder, file_name)\n",
    "\n",
    "        # Avoid overwriting by renaming if needed\n",
    "        if os.path.exists(dst_path):\n",
    "            base, ext = os.path.splitext(file_name)\n",
    "            i = 1\n",
    "            new_file_name = f\"{base}_{i}{ext}\"\n",
    "            new_dst_path = os.path.join(dst_folder, new_file_name)\n",
    "\n",
    "            while os.path.exists(new_dst_path):\n",
    "                i += 1\n",
    "                new_file_name = f\"{base}_{i}{ext}\"\n",
    "                new_dst_path = os.path.join(dst_folder, new_file_name)\n",
    "\n",
    "            dst_path = new_dst_path\n",
    "\n",
    "        shutil.move(src_path, dst_path)  # move instead of copy\n",
    "\n",
    "print(\"✅ All images from os_collected_data have been moved into dataset_new successfully!\")"
   ]
  },
  {
   "cell_type": "code",
   "execution_count": 12,
   "id": "78a0f5bd",
   "metadata": {},
   "outputs": [
    {
     "name": "stdout",
     "output_type": "stream",
     "text": [
      "✅ Renamed 966 files in normal folder\n",
      "✅ Renamed 979 files in osteoporosis folder\n"
     ]
    }
   ],
   "source": [
    "root = \"dataset_new\"\n",
    "classes = [\"normal\", \"osteoporosis\"]\n",
    "\n",
    "for cls in classes:\n",
    "    folder = os.path.join(root, cls)\n",
    "\n",
    "    # Get all files in the folder\n",
    "    files = sorted(os.listdir(folder))\n",
    "\n",
    "    # Pass 1: Rename to temporary names to avoid conflicts\n",
    "    temp_files = []\n",
    "    for idx, file_name in enumerate(files):\n",
    "        old_path = os.path.join(folder, file_name)\n",
    "        temp_name = f\"temp_{idx}.tmp\"\n",
    "        temp_path = os.path.join(folder, temp_name)\n",
    "        os.rename(old_path, temp_path)\n",
    "        temp_files.append(temp_path)\n",
    "\n",
    "    # Pass 2: Rename to final sequential names\n",
    "    for idx, temp_path in enumerate(temp_files, start=1):\n",
    "        ext = os.path.splitext(temp_path)[1]  # original extension may be lost (.tmp), fix below\n",
    "        # Detect original extension from temp name mapping\n",
    "        original_ext = os.path.splitext(files[idx-1])[1]\n",
    "        new_name = f\"{cls}_{idx:04d}{original_ext.lower()}\"\n",
    "        new_path = os.path.join(folder, new_name)\n",
    "        os.rename(temp_path, new_path)\n",
    "\n",
    "    print(f\"✅ Renamed {len(files)} files in {cls} folder\")"
   ]
  }
 ],
 "metadata": {
  "kernelspec": {
   "display_name": "Python 3",
   "language": "python",
   "name": "python3"
  },
  "language_info": {
   "codemirror_mode": {
    "name": "ipython",
    "version": 3
   },
   "file_extension": ".py",
   "mimetype": "text/x-python",
   "name": "python",
   "nbconvert_exporter": "python",
   "pygments_lexer": "ipython3",
   "version": "3.11.9"
  }
 },
 "nbformat": 4,
 "nbformat_minor": 5
}
